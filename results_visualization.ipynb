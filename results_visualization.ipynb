{
 "cells": [
  {
   "cell_type": "code",
   "execution_count": null,
   "id": "968fd14f",
   "metadata": {},
   "outputs": [],
   "source": [
    "import json\n",
    "import pandas as pd\n",
    "import glob\n",
    "import os\n",
    "import numpy as np\n",
    "import matplotlib.pyplot as plt"
   ]
  },
  {
   "cell_type": "markdown",
   "id": "8c205d26",
   "metadata": {},
   "source": [
    "## Results Visualization\n",
    "\n",
    "This notebook provides tools to visualize the results of your experiments. It parses results from json files to CSV format and plots DataFit comparisons for different models."
   ]
  },
  {
   "cell_type": "code",
   "execution_count": null,
   "id": "da4733ea",
   "metadata": {},
   "outputs": [],
   "source": [
    "FOLDER = \"./results_trivia_qa\""
   ]
  },
  {
   "cell_type": "code",
   "execution_count": null,
   "id": "8f89cf18",
   "metadata": {},
   "outputs": [],
   "source": [
    "def extract_model_name(filename):\n",
    "    \"\"\"Extract model name from results_*.json filename.\"\"\"\n",
    "    # Remove 'results_' prefix and '.json' suffix\n",
    "    basename = os.path.basename(filename)\n",
    "    model_name = basename.replace('results_', '').replace('.json', '')\n",
    "    return model_name"
   ]
  },
  {
   "cell_type": "code",
   "execution_count": null,
   "id": "ad726c8d",
   "metadata": {},
   "outputs": [],
   "source": [
    "def load_results_files(directory_path):\n",
    "    \"\"\"Load all results_*.json files from the specified directory.\"\"\"\n",
    "    # Find all results_*.json files\n",
    "    pattern = os.path.join(directory_path, \"results_*.json\")\n",
    "    json_files = glob.glob(pattern)\n",
    "\n",
    "    paraphrase_data = []\n",
    "    qa_data = []\n",
    "\n",
    "    for json_file in json_files:\n",
    "        model_name = extract_model_name(json_file)\n",
    "\n",
    "        try:\n",
    "            with open(json_file, 'r') as f:\n",
    "                data = json.load(f)\n",
    "\n",
    "            # Extract paraphrase data\n",
    "            if 'paraphrase' in data:\n",
    "                para_row = data['paraphrase'].copy()\n",
    "                para_row['model_name'] = model_name\n",
    "                # Move model_name to the front\n",
    "                para_row = {'model_name': para_row.pop('model_name'), **para_row}\n",
    "                paraphrase_data.append(para_row)\n",
    "\n",
    "            # Extract QA data\n",
    "            if 'qa' in data:\n",
    "                qa_row = data['qa'].copy()\n",
    "                qa_row['model_name'] = model_name\n",
    "                # Move model_name to the front\n",
    "                qa_row = {'model_name': qa_row.pop('model_name'), **qa_row}\n",
    "                qa_data.append(qa_row)\n",
    "\n",
    "        except (json.JSONDecodeError, FileNotFoundError) as e:\n",
    "            print(f\"Error processing {json_file}: {e}\")\n",
    "            continue\n",
    "\n",
    "    return paraphrase_data, qa_data\n"
   ]
  },
  {
   "cell_type": "code",
   "execution_count": null,
   "id": "b18dd926",
   "metadata": {},
   "outputs": [],
   "source": [
    "def process():\n",
    "    # Get the directory containing this script\n",
    "    script_dir = FOLDER\n",
    "\n",
    "    print(f\"Processing JSON files in: {script_dir}\")\n",
    "\n",
    "    # Load data from all results_*.json files\n",
    "    paraphrase_data, qa_data = load_results_files(script_dir)\n",
    "\n",
    "    if not paraphrase_data and not qa_data:\n",
    "        print(\"No results_*.json files found or no data extracted.\")\n",
    "        return\n",
    "\n",
    "    # Create DataFrames\n",
    "    if paraphrase_data:\n",
    "        paraphrase_df = pd.DataFrame(paraphrase_data)\n",
    "        # Sort by model_name for consistent ordering\n",
    "        paraphrase_df = paraphrase_df.sort_values('model_name').reset_index(drop=True)\n",
    "\n",
    "        # Save to CSV\n",
    "        paraphrase_csv = os.path.join(script_dir, \"paraphrase_results.csv\")\n",
    "        paraphrase_df.to_csv(paraphrase_csv, index=False)\n",
    "        print(f\"Paraphrase data saved to: {paraphrase_csv}\")\n",
    "        print(f\"Paraphrase DataFrame shape: {paraphrase_df.shape}\")\n",
    "        print(f\"Models in paraphrase data: {list(paraphrase_df['model_name'])}\")\n",
    "    else:\n",
    "        print(\"No paraphrase data found.\")\n",
    "\n",
    "    if qa_data:\n",
    "        qa_df = pd.DataFrame(qa_data)\n",
    "        # Sort by model_name for consistent ordering\n",
    "        qa_df = qa_df.sort_values('model_name').reset_index(drop=True)\n",
    "\n",
    "        # Save to CSV\n",
    "        qa_csv = os.path.join(script_dir, \"qa_results.csv\")\n",
    "        qa_df.to_csv(qa_csv, index=False)\n",
    "        print(f\"QA data saved to: {qa_csv}\")\n",
    "        print(f\"QA DataFrame shape: {qa_df.shape}\")\n",
    "        print(f\"Models in QA data: {list(qa_df['model_name'])}\")\n",
    "    else:\n",
    "        print(\"No QA data found.\")\n",
    "\n",
    "    # Print summary\n",
    "    print(f\"\\nSummary:\")\n",
    "    print(f\"- Processed {len(set([item['model_name'] for item in paraphrase_data + qa_data]))} unique models\")\n",
    "    print(f\"- Paraphrase records: {len(paraphrase_data)}\")\n",
    "    print(f\"- QA records: {len(qa_data)}\")\n",
    "\n",
    "    return paraphrase_df, qa_df\n"
   ]
  },
  {
   "cell_type": "code",
   "execution_count": null,
   "id": "5aede824",
   "metadata": {},
   "outputs": [],
   "source": [
    "paraphrase_df, qa_df = process()"
   ]
  },
  {
   "cell_type": "code",
   "execution_count": null,
   "id": "6518e080",
   "metadata": {},
   "outputs": [],
   "source": [
    "paraphrase_df.head()"
   ]
  },
  {
   "cell_type": "code",
   "execution_count": null,
   "id": "132b0ce2",
   "metadata": {},
   "outputs": [],
   "source": [
    "paraphrase_df.columns"
   ]
  },
  {
   "cell_type": "code",
   "execution_count": null,
   "id": "db27ef5e",
   "metadata": {},
   "outputs": [],
   "source": [
    "# convert Nmax_eta_ fields to int\n",
    "for col in paraphrase_df.columns:\n",
    "    if col.startswith(\"Nmax_eta_\"):\n",
    "        paraphrase_df[col] = paraphrase_df[col].astype(int)\n",
    "\n",
    "for col in qa_df.columns:\n",
    "    if col.startswith(\"Nmax_eta_\"):\n",
    "        qa_df[col] = qa_df[col].astype(int)"
   ]
  },
  {
   "cell_type": "code",
   "execution_count": null,
   "id": "b5057c10",
   "metadata": {},
   "outputs": [],
   "source": [
    "# print model_name and fit\n",
    "p = paraphrase_df[[\"model_name\", \"dim\", \"DataFit\", \"BTI\", \"delta_op\", \"eta_JL\", \"CCS\", \"cos_mean\", \"Nmax_eta_0.2\", \"Nmax_eta_0.15\"]].sort_values(\"DataFit\", ascending=False)\n",
    "p.style.format({\"DataFit\": \"{:.3f}\", \"BTI\": \"{:.3f}\", \"delta_op\": \"{:.3f}\", \"eta_JL\": \"{:.3f}\", \"CCS\": \"{:.3f}\", \"cos_mean\": \"{:.3f}\"})"
   ]
  },
  {
   "cell_type": "code",
   "execution_count": null,
   "id": "a25eb1e6",
   "metadata": {},
   "outputs": [],
   "source": [
    "# print model_name and fit\n",
    "q = qa_df[[\"model_name\", \"dim\", \"DataFit\", \"BTI\", \"delta_op\", \"eta_JL\", \"CCS\", \"cos_mean\", \"Nmax_eta_0.2\", \"Nmax_eta_0.15\"]].sort_values(\"DataFit\", ascending=False)\n",
    "q.style.format({\"DataFit\": \"{:.3f}\", \"BTI\": \"{:.3f}\", \"delta_op\": \"{:.3f}\", \"eta_JL\": \"{:.3f}\", \"CCS\": \"{:.3f}\", \"cos_mean\": \"{:.3f}\"})"
   ]
  },
  {
   "cell_type": "code",
   "execution_count": null,
   "id": "dfae2670",
   "metadata": {},
   "outputs": [],
   "source": [
    "# plot paraphrase fit vs qa fit as BAR chart\n",
    "\n",
    "plt.figure(figsize=(8, 6))\n",
    "merged_df = pd.merge(paraphrase_df, qa_df, on=\"model_name\", suffixes=(\"_para\", \"_qa\"))\n",
    "merged_df = merged_df.sort_values(\"DataFit_para\", ascending=False)\n",
    "bar_width = 0.35\n",
    "indices = np.arange(len(merged_df))\n",
    "plt.bar(indices, merged_df[\"DataFit_para\"], width=bar_width, label=\"Paraphrase Fit\", color='b', alpha=0.7)\n",
    "plt.bar(indices + bar_width, merged_df[\"DataFit_qa\"], width=bar_width, label=\"QA Fit\", color='r', alpha=0.7)\n",
    "plt.xlabel(\"Models\")\n",
    "plt.ylabel(\"Data Fit\")\n",
    "plt.title(\"Paraphrase Fit vs QA Fit by Model\")\n",
    "plt.xticks(indices + bar_width / 2, merged_df[\"model_name\"], rotation=90)\n",
    "plt.legend()\n",
    "plt.tight_layout()\n",
    "plt.show()"
   ]
  },
  {
   "cell_type": "code",
   "execution_count": null,
   "id": "79abd74f",
   "metadata": {},
   "outputs": [],
   "source": [
    "# plot BTI, cos_mean, eta_JL, CCS for each model as grouped bar chart\n",
    "def plot_grouped_bar_chart(df):\n",
    "    plt.figure(figsize=(12, 8))\n",
    "    metrics = [\"BTI\", \"cos_mean\", \"eta_JL\", \"CCS\"]\n",
    "    bar_width = 0.2\n",
    "    indices = np.arange(len(df))\n",
    "    for i, metric in enumerate(metrics):\n",
    "        plt.bar(indices + i * bar_width, df[metric], width=bar_width, label=metric, alpha=0.7)\n",
    "    plt.xlabel(\"Models\")\n",
    "    plt.ylabel(\"Metric Value\")\n",
    "    plt.title(\"Comparison of Metrics by Model\")\n",
    "    plt.xticks(indices + bar_width * (len(metrics) - 1) /\n",
    "                2, df[\"model_name\"], rotation=90)\n",
    "    plt.legend(bbox_to_anchor=(1.05, 1), loc='upper left')\n",
    "    plt.tight_layout()\n",
    "    plt.show()"
   ]
  },
  {
   "cell_type": "code",
   "execution_count": null,
   "id": "9a88be3d",
   "metadata": {},
   "outputs": [],
   "source": [
    "plot_grouped_bar_chart(paraphrase_df)"
   ]
  },
  {
   "cell_type": "code",
   "execution_count": null,
   "id": "1b50c7bf",
   "metadata": {},
   "outputs": [],
   "source": [
    "plot_grouped_bar_chart(qa_df)"
   ]
  },
  {
   "cell_type": "code",
   "execution_count": null,
   "id": "4b527b00",
   "metadata": {},
   "outputs": [],
   "source": []
  }
 ],
 "metadata": {
  "kernelspec": {
   "display_name": "rmr",
   "language": "python",
   "name": "python3"
  },
  "language_info": {
   "codemirror_mode": {
    "name": "ipython",
    "version": 3
   },
   "file_extension": ".py",
   "mimetype": "text/x-python",
   "name": "python",
   "nbconvert_exporter": "python",
   "pygments_lexer": "ipython3",
   "version": "3.13.5"
  }
 },
 "nbformat": 4,
 "nbformat_minor": 5
}
